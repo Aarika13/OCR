{
 "cells": [
  {
   "cell_type": "code",
   "execution_count": 2,
   "id": "1ff03e32",
   "metadata": {},
   "outputs": [
    {
     "name": "stdout",
     "output_type": "stream",
     "text": [
      "Defaulting to user installation because normal site-packages is not writeable\n",
      "Requirement already satisfied: docquery in /home/sunil/.local/lib/python3.11/site-packages (0.0.5)\n",
      "Requirement already satisfied: torch>=1.0 in /home/sunil/.local/lib/python3.11/site-packages (from docquery) (1.13.1)\n",
      "Requirement already satisfied: pdf2image in /home/sunil/.local/lib/python3.11/site-packages (from docquery) (1.16.3)\n",
      "Requirement already satisfied: pdfplumber in /home/sunil/.local/lib/python3.11/site-packages (from docquery) (0.8.0)\n",
      "Requirement already satisfied: Pillow in /home/sunil/.local/lib/python3.11/site-packages (from docquery) (9.4.0)\n",
      "Requirement already satisfied: pydantic in /home/sunil/.local/lib/python3.11/site-packages (from docquery) (1.10.6)\n",
      "Requirement already satisfied: pytesseract in /home/sunil/.local/lib/python3.11/site-packages (from docquery) (0.3.10)\n",
      "Requirement already satisfied: requests in /home/sunil/.local/lib/python3.11/site-packages (from docquery) (2.19.1)\n",
      "Requirement already satisfied: transformers>=4.21 in /home/sunil/.local/lib/python3.11/site-packages (from docquery) (4.26.1)\n",
      "Requirement already satisfied: typing-extensions in /home/sunil/.local/lib/python3.11/site-packages (from torch>=1.0->docquery) (4.5.0)\n",
      "Requirement already satisfied: nvidia-cuda-runtime-cu11==11.7.99 in /home/sunil/.local/lib/python3.11/site-packages (from torch>=1.0->docquery) (11.7.99)\n",
      "Requirement already satisfied: nvidia-cudnn-cu11==8.5.0.96 in /home/sunil/.local/lib/python3.11/site-packages (from torch>=1.0->docquery) (8.5.0.96)\n",
      "Requirement already satisfied: nvidia-cublas-cu11==11.10.3.66 in /home/sunil/.local/lib/python3.11/site-packages (from torch>=1.0->docquery) (11.10.3.66)\n",
      "Requirement already satisfied: nvidia-cuda-nvrtc-cu11==11.7.99 in /home/sunil/.local/lib/python3.11/site-packages (from torch>=1.0->docquery) (11.7.99)\n",
      "Requirement already satisfied: setuptools in /usr/lib/python3/dist-packages (from nvidia-cublas-cu11==11.10.3.66->torch>=1.0->docquery) (59.6.0)\n",
      "Requirement already satisfied: wheel in /usr/lib/python3/dist-packages (from nvidia-cublas-cu11==11.10.3.66->torch>=1.0->docquery) (0.37.1)\n",
      "Requirement already satisfied: filelock in /home/sunil/.local/lib/python3.11/site-packages (from transformers>=4.21->docquery) (3.9.0)\n",
      "Requirement already satisfied: huggingface-hub<1.0,>=0.11.0 in /home/sunil/.local/lib/python3.11/site-packages (from transformers>=4.21->docquery) (0.13.1)\n",
      "Requirement already satisfied: numpy>=1.17 in /home/sunil/.local/lib/python3.11/site-packages (from transformers>=4.21->docquery) (1.24.2)\n",
      "Requirement already satisfied: packaging>=20.0 in /home/sunil/.local/lib/python3.11/site-packages (from transformers>=4.21->docquery) (23.0)\n",
      "Requirement already satisfied: pyyaml>=5.1 in /usr/lib/python3/dist-packages (from transformers>=4.21->docquery) (5.4.1)\n",
      "Requirement already satisfied: regex!=2019.12.17 in /home/sunil/.local/lib/python3.11/site-packages (from transformers>=4.21->docquery) (2022.10.31)\n",
      "Requirement already satisfied: tokenizers!=0.11.3,<0.14,>=0.11.1 in /home/sunil/.local/lib/python3.11/site-packages (from transformers>=4.21->docquery) (0.13.2)\n",
      "Requirement already satisfied: tqdm>=4.27 in /home/sunil/.local/lib/python3.11/site-packages (from transformers>=4.21->docquery) (4.64.1)\n",
      "Requirement already satisfied: pdfminer.six==20221105 in /home/sunil/.local/lib/python3.11/site-packages (from pdfplumber->docquery) (20221105)\n",
      "Requirement already satisfied: Wand>=0.6.10 in /home/sunil/.local/lib/python3.11/site-packages (from pdfplumber->docquery) (0.6.11)\n",
      "Requirement already satisfied: charset-normalizer>=2.0.0 in /home/sunil/.local/lib/python3.11/site-packages (from pdfminer.six==20221105->pdfplumber->docquery) (3.0.1)\n",
      "Requirement already satisfied: cryptography>=36.0.0 in /home/sunil/.local/lib/python3.11/site-packages (from pdfminer.six==20221105->pdfplumber->docquery) (39.0.2)\n",
      "Requirement already satisfied: chardet<3.1.0,>=3.0.2 in /home/sunil/.local/lib/python3.11/site-packages (from requests->docquery) (3.0.4)\n",
      "Requirement already satisfied: idna<2.8,>=2.5 in /home/sunil/.local/lib/python3.11/site-packages (from requests->docquery) (2.7)\n",
      "Requirement already satisfied: urllib3<1.24,>=1.21.1 in /home/sunil/.local/lib/python3.11/site-packages (from requests->docquery) (1.23)\n",
      "Requirement already satisfied: certifi>=2017.4.17 in /usr/lib/python3/dist-packages (from requests->docquery) (2020.6.20)\n",
      "Requirement already satisfied: cffi>=1.12 in /home/sunil/.local/lib/python3.11/site-packages (from cryptography>=36.0.0->pdfminer.six==20221105->pdfplumber->docquery) (1.15.1)\n",
      "Requirement already satisfied: pycparser in /home/sunil/.local/lib/python3.11/site-packages (from cffi>=1.12->cryptography>=36.0.0->pdfminer.six==20221105->pdfplumber->docquery) (2.21)\n",
      "Defaulting to user installation because normal site-packages is not writeable\n",
      "Collecting tesseract-ocr\n",
      "  Using cached tesseract-ocr-0.0.1.tar.gz (33 kB)\n",
      "  Preparing metadata (setup.py) ... \u001b[?25ldone\n",
      "\u001b[?25hRequirement already satisfied: cython in /home/sunil/.local/lib/python3.11/site-packages (from tesseract-ocr) (0.29.33)\n",
      "Building wheels for collected packages: tesseract-ocr\n",
      "  Building wheel for tesseract-ocr (setup.py) ... \u001b[?25lerror\n",
      "  \u001b[1;31merror\u001b[0m: \u001b[1msubprocess-exited-with-error\u001b[0m\n",
      "  \n",
      "  \u001b[31m×\u001b[0m \u001b[32mpython setup.py bdist_wheel\u001b[0m did not run successfully.\n",
      "  \u001b[31m│\u001b[0m exit code: \u001b[1;36m1\u001b[0m\n",
      "  \u001b[31m╰─>\u001b[0m \u001b[31m[17 lines of output]\u001b[0m\n",
      "  \u001b[31m   \u001b[0m /usr/lib/python3/dist-packages/setuptools/dist.py:723: UserWarning: Usage of dash-separated 'description-file' will not be supported in future versions. Please use the underscore name 'description_file' instead\n",
      "  \u001b[31m   \u001b[0m   warnings.warn(\n",
      "  \u001b[31m   \u001b[0m running bdist_wheel\n",
      "  \u001b[31m   \u001b[0m running build\n",
      "  \u001b[31m   \u001b[0m running build_py\n",
      "  \u001b[31m   \u001b[0m file tesseract_ocr.py (for module tesseract_ocr) not found\n",
      "  \u001b[31m   \u001b[0m file tesseract_ocr.py (for module tesseract_ocr) not found\n",
      "  \u001b[31m   \u001b[0m running build_ext\n",
      "  \u001b[31m   \u001b[0m building 'tesseract_ocr' extension\n",
      "  \u001b[31m   \u001b[0m creating build\n",
      "  \u001b[31m   \u001b[0m creating build/temp.linux-x86_64-3.11\n",
      "  \u001b[31m   \u001b[0m x86_64-linux-gnu-gcc -Wsign-compare -DNDEBUG -g -fwrapv -O2 -Wall -g -fstack-protector-strong -Wformat -Werror=format-security -g -fwrapv -O2 -g -fstack-protector-strong -Wformat -Werror=format-security -Wdate-time -D_FORTIFY_SOURCE=2 -fPIC -I/usr/include/python3.11 -c tesseract_ocr.cpp -o build/temp.linux-x86_64-3.11/tesseract_ocr.o\n",
      "  \u001b[31m   \u001b[0m tesseract_ocr.cpp:24:10: fatal error: Python.h: No such file or directory\n",
      "  \u001b[31m   \u001b[0m    24 | #include \"Python.h\"\n",
      "  \u001b[31m   \u001b[0m       |          ^~~~~~~~~~\n",
      "  \u001b[31m   \u001b[0m compilation terminated.\n",
      "  \u001b[31m   \u001b[0m error: command '/usr/bin/x86_64-linux-gnu-gcc' failed with exit code 1\n",
      "  \u001b[31m   \u001b[0m \u001b[31m[end of output]\u001b[0m\n",
      "  \n",
      "  \u001b[1;35mnote\u001b[0m: This error originates from a subprocess, and is likely not a problem with pip.\n",
      "\u001b[31m  ERROR: Failed building wheel for tesseract-ocr\u001b[0m\u001b[31m\n",
      "\u001b[0m\u001b[?25h  Running setup.py clean for tesseract-ocr\n",
      "Failed to build tesseract-ocr\n",
      "Installing collected packages: tesseract-ocr\n",
      "  Running setup.py install for tesseract-ocr ... \u001b[?25lerror\n",
      "  \u001b[1;31merror\u001b[0m: \u001b[1msubprocess-exited-with-error\u001b[0m\n",
      "  \n",
      "  \u001b[31m×\u001b[0m \u001b[32mRunning setup.py install for tesseract-ocr\u001b[0m did not run successfully.\n",
      "  \u001b[31m│\u001b[0m exit code: \u001b[1;36m1\u001b[0m\n",
      "  \u001b[31m╰─>\u001b[0m \u001b[31m[19 lines of output]\u001b[0m\n",
      "  \u001b[31m   \u001b[0m /usr/lib/python3/dist-packages/setuptools/dist.py:723: UserWarning: Usage of dash-separated 'description-file' will not be supported in future versions. Please use the underscore name 'description_file' instead\n",
      "  \u001b[31m   \u001b[0m   warnings.warn(\n",
      "  \u001b[31m   \u001b[0m running install\n",
      "  \u001b[31m   \u001b[0m /usr/lib/python3/dist-packages/setuptools/command/install.py:34: SetuptoolsDeprecationWarning: setup.py install is deprecated. Use build and pip and other standards-based tools.\n",
      "  \u001b[31m   \u001b[0m   warnings.warn(\n",
      "  \u001b[31m   \u001b[0m running build\n",
      "  \u001b[31m   \u001b[0m running build_py\n",
      "  \u001b[31m   \u001b[0m file tesseract_ocr.py (for module tesseract_ocr) not found\n",
      "  \u001b[31m   \u001b[0m file tesseract_ocr.py (for module tesseract_ocr) not found\n",
      "  \u001b[31m   \u001b[0m running build_ext\n",
      "  \u001b[31m   \u001b[0m building 'tesseract_ocr' extension\n",
      "  \u001b[31m   \u001b[0m creating build\n",
      "  \u001b[31m   \u001b[0m creating build/temp.linux-x86_64-3.11\n",
      "  \u001b[31m   \u001b[0m x86_64-linux-gnu-gcc -Wsign-compare -DNDEBUG -g -fwrapv -O2 -Wall -g -fstack-protector-strong -Wformat -Werror=format-security -g -fwrapv -O2 -g -fstack-protector-strong -Wformat -Werror=format-security -Wdate-time -D_FORTIFY_SOURCE=2 -fPIC -I/usr/include/python3.11 -c tesseract_ocr.cpp -o build/temp.linux-x86_64-3.11/tesseract_ocr.o\n",
      "  \u001b[31m   \u001b[0m tesseract_ocr.cpp:24:10: fatal error: Python.h: No such file or directory\n",
      "  \u001b[31m   \u001b[0m    24 | #include \"Python.h\"\n",
      "  \u001b[31m   \u001b[0m       |          ^~~~~~~~~~\n",
      "  \u001b[31m   \u001b[0m compilation terminated.\n",
      "  \u001b[31m   \u001b[0m error: command '/usr/bin/x86_64-linux-gnu-gcc' failed with exit code 1\n",
      "  \u001b[31m   \u001b[0m \u001b[31m[end of output]\u001b[0m\n",
      "  \n",
      "  \u001b[1;35mnote\u001b[0m: This error originates from a subprocess, and is likely not a problem with pip.\n",
      "\u001b[1;31merror\u001b[0m: \u001b[1mlegacy-install-failure\u001b[0m\n",
      "\n",
      "\u001b[31m×\u001b[0m Encountered error while trying to install package.\n",
      "\u001b[31m╰─>\u001b[0m tesseract-ocr\n",
      "\n",
      "\u001b[1;35mnote\u001b[0m: This is an issue with the package mentioned above, not pip.\n",
      "\u001b[1;36mhint\u001b[0m: See above for output from the failure.\n"
     ]
    },
    {
     "name": "stdout",
     "output_type": "stream",
     "text": [
      "\u001b[?25hDefaulting to user installation because normal site-packages is not writeable\n",
      "Requirement already satisfied: gensim in /home/sunil/.local/lib/python3.11/site-packages (4.3.1)\n",
      "Requirement already satisfied: numpy>=1.18.5 in /home/sunil/.local/lib/python3.11/site-packages (from gensim) (1.24.2)\n",
      "Requirement already satisfied: scipy>=1.7.0 in /home/sunil/.local/lib/python3.11/site-packages (from gensim) (1.10.0)\n",
      "Requirement already satisfied: smart-open>=1.8.1 in /home/sunil/.local/lib/python3.11/site-packages (from gensim) (6.3.0)\n"
     ]
    }
   ],
   "source": [
    "!pip install docquery\n",
    "!pip install tesseract-ocr\n",
    "!pip install -vvv torch\n",
    "!pip install numpy\n",
    "!pip3 install --pre torch -f https://download.pytorch.org/whl/nightly/cpu/torch_nightly.html\n",
    "!pip install gensim"
   ]
  },
  {
   "cell_type": "code",
   "execution_count": 3,
   "id": "ed5a13b6",
   "metadata": {},
   "outputs": [
    {
     "name": "stderr",
     "output_type": "stream",
     "text": [
      "2023-03-14 13:44:56.156 \n",
      "  \u001b[33m\u001b[1mWarning:\u001b[0m to view this Streamlit app on a browser, run it with the following\n",
      "  command:\n",
      "\n",
      "    streamlit run /home/sunil/.local/lib/python3.11/site-packages/ipykernel_launcher.py [ARGUMENTS]\n"
     ]
    },
    {
     "data": {
      "text/plain": [
       "DeltaGenerator(_root_container=0, _provided_cursor=None, _parent=None, _block_type=None, _form_data=None)"
      ]
     },
     "execution_count": 3,
     "metadata": {},
     "output_type": "execute_result"
    }
   ],
   "source": [
    "import streamlit as st\n",
    "import pandas as pd\n",
    "import numpy as np\n",
    "\n",
    "df = pd.DataFrame(\n",
    "   np.random.randn(10, 5),\n",
    "   columns=('col %d' % i for i in range(5)))\n",
    "\n",
    "st.table(df)"
   ]
  },
  {
   "cell_type": "code",
   "execution_count": 23,
   "id": "126ce361",
   "metadata": {},
   "outputs": [
    {
     "ename": "TypeError",
     "evalue": "'>' not supported between instances of 'list' and 'int'",
     "output_type": "error",
     "traceback": [
      "\u001b[0;31m---------------------------------------------------------------------------\u001b[0m",
      "\u001b[0;31mTypeError\u001b[0m                                 Traceback (most recent call last)",
      "Cell \u001b[0;32mIn[23], line 5\u001b[0m\n\u001b[1;32m      3\u001b[0m     x \u001b[38;5;241m=\u001b[39m student_detail[i][:\u001b[38;5;241m2\u001b[39m]\n\u001b[1;32m      4\u001b[0m     y \u001b[38;5;241m=\u001b[39m student_detail[i][:\u001b[38;5;241m-\u001b[39m\u001b[38;5;241m1\u001b[39m]\n\u001b[0;32m----> 5\u001b[0m     \u001b[38;5;28;01mif\u001b[39;00m \u001b[43mx\u001b[49m\u001b[38;5;241;43m>\u001b[39;49m\u001b[38;5;241;43m30\u001b[39;49m \u001b[38;5;129;01mand\u001b[39;00m y\u001b[38;5;241m>\u001b[39m\u001b[38;5;241m50000\u001b[39m:\n\u001b[1;32m      6\u001b[0m         \u001b[38;5;28mprint\u001b[39m(student_detail)\n\u001b[1;32m      7\u001b[0m i\n",
      "\u001b[0;31mTypeError\u001b[0m: '>' not supported between instances of 'list' and 'int'"
     ]
    }
   ],
   "source": [
    "student_detail = [['1','AAA',\"23\",3400000],['2','BBB',\"30\",34500],['3','CCC',\"33\",3408900]]\n",
    "for i in range(len(student_detail)):\n",
    "    x = student_detail[i][:2]\n",
    "    y = student_detail[i][:-1]\n",
    "    if x>30 and y>50000:\n",
    "        print(student_detail)\n",
    "i"
   ]
  },
  {
   "cell_type": "code",
   "execution_count": null,
   "id": "3605410f",
   "metadata": {},
   "outputs": [],
   "source": []
  },
  {
   "cell_type": "code",
   "execution_count": null,
   "id": "248071cd",
   "metadata": {},
   "outputs": [],
   "source": []
  },
  {
   "cell_type": "code",
   "execution_count": null,
   "id": "9159874f",
   "metadata": {},
   "outputs": [],
   "source": []
  },
  {
   "cell_type": "code",
   "execution_count": null,
   "id": "ea0db44c",
   "metadata": {},
   "outputs": [],
   "source": []
  },
  {
   "cell_type": "code",
   "execution_count": null,
   "id": "993b2198",
   "metadata": {},
   "outputs": [],
   "source": []
  }
 ],
 "metadata": {
  "kernelspec": {
   "display_name": "Python 3 (ipykernel)",
   "language": "python",
   "name": "python3"
  },
  "language_info": {
   "codemirror_mode": {
    "name": "ipython",
    "version": 3
   },
   "file_extension": ".py",
   "mimetype": "text/x-python",
   "name": "python",
   "nbconvert_exporter": "python",
   "pygments_lexer": "ipython3",
   "version": "3.11.1"
  }
 },
 "nbformat": 4,
 "nbformat_minor": 5
}
