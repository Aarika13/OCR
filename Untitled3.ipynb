{
 "cells": [
  {
   "cell_type": "code",
   "execution_count": 25,
   "id": "3854eed8",
   "metadata": {},
   "outputs": [],
   "source": [
    "!pip install -U spacy -q"
   ]
  },
  {
   "cell_type": "code",
   "execution_count": 26,
   "id": "a107789b",
   "metadata": {},
   "outputs": [
    {
     "name": "stdout",
     "output_type": "stream",
     "text": [
      "/bin/bash: line 1: python: command not found\r\n"
     ]
    }
   ],
   "source": [
    "!python -m spacy info"
   ]
  },
  {
   "cell_type": "code",
   "execution_count": 27,
   "id": "305e2b71",
   "metadata": {},
   "outputs": [],
   "source": [
    "import spacy\n",
    "from spacy.tokens import DocBin\n",
    "from tqdm import tqdm\n",
    "\n",
    "nlp = spacy.blank(\"en\") # load a new spacy model\n",
    "db = DocBin()"
   ]
  },
  {
   "cell_type": "code",
   "execution_count": 28,
   "id": "37a567c5",
   "metadata": {},
   "outputs": [
    {
     "ename": "JSONDecodeError",
     "evalue": "Expecting value: line 28 column 50 (char 1323)",
     "output_type": "error",
     "traceback": [
      "\u001b[0;31m---------------------------------------------------------------------------\u001b[0m",
      "\u001b[0;31mJSONDecodeError\u001b[0m                           Traceback (most recent call last)",
      "Cell \u001b[0;32mIn[28], line 4\u001b[0m\n\u001b[1;32m      1\u001b[0m \u001b[38;5;28;01mimport\u001b[39;00m \u001b[38;5;21;01mjson\u001b[39;00m\n\u001b[1;32m      2\u001b[0m \u001b[38;5;28;01mwith\u001b[39;00m \u001b[38;5;28mopen\u001b[39m(\u001b[38;5;124m'\u001b[39m\u001b[38;5;124m/home/sunil/Downloads/annotations.json\u001b[39m\u001b[38;5;124m'\u001b[39m, \u001b[38;5;124m'\u001b[39m\u001b[38;5;124mr\u001b[39m\u001b[38;5;124m'\u001b[39m) \u001b[38;5;28;01mas\u001b[39;00m f:\n\u001b[1;32m      3\u001b[0m \u001b[38;5;66;03m#     TEST_DATA = json.load(f)\u001b[39;00m\n\u001b[0;32m----> 4\u001b[0m     TRAIN_DATA \u001b[38;5;241m=\u001b[39m \u001b[43mjson\u001b[49m\u001b[38;5;241;43m.\u001b[39;49m\u001b[43mload\u001b[49m\u001b[43m(\u001b[49m\u001b[43mf\u001b[49m\u001b[43m)\u001b[49m\n",
      "File \u001b[0;32m/usr/lib/python3.11/json/__init__.py:293\u001b[0m, in \u001b[0;36mload\u001b[0;34m(fp, cls, object_hook, parse_float, parse_int, parse_constant, object_pairs_hook, **kw)\u001b[0m\n\u001b[1;32m    274\u001b[0m \u001b[38;5;28;01mdef\u001b[39;00m \u001b[38;5;21mload\u001b[39m(fp, \u001b[38;5;241m*\u001b[39m, \u001b[38;5;28mcls\u001b[39m\u001b[38;5;241m=\u001b[39m\u001b[38;5;28;01mNone\u001b[39;00m, object_hook\u001b[38;5;241m=\u001b[39m\u001b[38;5;28;01mNone\u001b[39;00m, parse_float\u001b[38;5;241m=\u001b[39m\u001b[38;5;28;01mNone\u001b[39;00m,\n\u001b[1;32m    275\u001b[0m         parse_int\u001b[38;5;241m=\u001b[39m\u001b[38;5;28;01mNone\u001b[39;00m, parse_constant\u001b[38;5;241m=\u001b[39m\u001b[38;5;28;01mNone\u001b[39;00m, object_pairs_hook\u001b[38;5;241m=\u001b[39m\u001b[38;5;28;01mNone\u001b[39;00m, \u001b[38;5;241m*\u001b[39m\u001b[38;5;241m*\u001b[39mkw):\n\u001b[1;32m    276\u001b[0m \u001b[38;5;250m    \u001b[39m\u001b[38;5;124;03m\"\"\"Deserialize ``fp`` (a ``.read()``-supporting file-like object containing\u001b[39;00m\n\u001b[1;32m    277\u001b[0m \u001b[38;5;124;03m    a JSON document) to a Python object.\u001b[39;00m\n\u001b[1;32m    278\u001b[0m \n\u001b[0;32m   (...)\u001b[0m\n\u001b[1;32m    291\u001b[0m \u001b[38;5;124;03m    kwarg; otherwise ``JSONDecoder`` is used.\u001b[39;00m\n\u001b[1;32m    292\u001b[0m \u001b[38;5;124;03m    \"\"\"\u001b[39;00m\n\u001b[0;32m--> 293\u001b[0m     \u001b[38;5;28;01mreturn\u001b[39;00m \u001b[43mloads\u001b[49m\u001b[43m(\u001b[49m\u001b[43mfp\u001b[49m\u001b[38;5;241;43m.\u001b[39;49m\u001b[43mread\u001b[49m\u001b[43m(\u001b[49m\u001b[43m)\u001b[49m\u001b[43m,\u001b[49m\n\u001b[1;32m    294\u001b[0m \u001b[43m        \u001b[49m\u001b[38;5;28;43mcls\u001b[39;49m\u001b[38;5;241;43m=\u001b[39;49m\u001b[38;5;28;43mcls\u001b[39;49m\u001b[43m,\u001b[49m\u001b[43m \u001b[49m\u001b[43mobject_hook\u001b[49m\u001b[38;5;241;43m=\u001b[39;49m\u001b[43mobject_hook\u001b[49m\u001b[43m,\u001b[49m\n\u001b[1;32m    295\u001b[0m \u001b[43m        \u001b[49m\u001b[43mparse_float\u001b[49m\u001b[38;5;241;43m=\u001b[39;49m\u001b[43mparse_float\u001b[49m\u001b[43m,\u001b[49m\u001b[43m \u001b[49m\u001b[43mparse_int\u001b[49m\u001b[38;5;241;43m=\u001b[39;49m\u001b[43mparse_int\u001b[49m\u001b[43m,\u001b[49m\n\u001b[1;32m    296\u001b[0m \u001b[43m        \u001b[49m\u001b[43mparse_constant\u001b[49m\u001b[38;5;241;43m=\u001b[39;49m\u001b[43mparse_constant\u001b[49m\u001b[43m,\u001b[49m\u001b[43m \u001b[49m\u001b[43mobject_pairs_hook\u001b[49m\u001b[38;5;241;43m=\u001b[39;49m\u001b[43mobject_pairs_hook\u001b[49m\u001b[43m,\u001b[49m\u001b[43m \u001b[49m\u001b[38;5;241;43m*\u001b[39;49m\u001b[38;5;241;43m*\u001b[39;49m\u001b[43mkw\u001b[49m\u001b[43m)\u001b[49m\n",
      "File \u001b[0;32m/usr/lib/python3.11/json/__init__.py:346\u001b[0m, in \u001b[0;36mloads\u001b[0;34m(s, cls, object_hook, parse_float, parse_int, parse_constant, object_pairs_hook, **kw)\u001b[0m\n\u001b[1;32m    341\u001b[0m     s \u001b[38;5;241m=\u001b[39m s\u001b[38;5;241m.\u001b[39mdecode(detect_encoding(s), \u001b[38;5;124m'\u001b[39m\u001b[38;5;124msurrogatepass\u001b[39m\u001b[38;5;124m'\u001b[39m)\n\u001b[1;32m    343\u001b[0m \u001b[38;5;28;01mif\u001b[39;00m (\u001b[38;5;28mcls\u001b[39m \u001b[38;5;129;01mis\u001b[39;00m \u001b[38;5;28;01mNone\u001b[39;00m \u001b[38;5;129;01mand\u001b[39;00m object_hook \u001b[38;5;129;01mis\u001b[39;00m \u001b[38;5;28;01mNone\u001b[39;00m \u001b[38;5;129;01mand\u001b[39;00m\n\u001b[1;32m    344\u001b[0m         parse_int \u001b[38;5;129;01mis\u001b[39;00m \u001b[38;5;28;01mNone\u001b[39;00m \u001b[38;5;129;01mand\u001b[39;00m parse_float \u001b[38;5;129;01mis\u001b[39;00m \u001b[38;5;28;01mNone\u001b[39;00m \u001b[38;5;129;01mand\u001b[39;00m\n\u001b[1;32m    345\u001b[0m         parse_constant \u001b[38;5;129;01mis\u001b[39;00m \u001b[38;5;28;01mNone\u001b[39;00m \u001b[38;5;129;01mand\u001b[39;00m object_pairs_hook \u001b[38;5;129;01mis\u001b[39;00m \u001b[38;5;28;01mNone\u001b[39;00m \u001b[38;5;129;01mand\u001b[39;00m \u001b[38;5;129;01mnot\u001b[39;00m kw):\n\u001b[0;32m--> 346\u001b[0m     \u001b[38;5;28;01mreturn\u001b[39;00m \u001b[43m_default_decoder\u001b[49m\u001b[38;5;241;43m.\u001b[39;49m\u001b[43mdecode\u001b[49m\u001b[43m(\u001b[49m\u001b[43ms\u001b[49m\u001b[43m)\u001b[49m\n\u001b[1;32m    347\u001b[0m \u001b[38;5;28;01mif\u001b[39;00m \u001b[38;5;28mcls\u001b[39m \u001b[38;5;129;01mis\u001b[39;00m \u001b[38;5;28;01mNone\u001b[39;00m:\n\u001b[1;32m    348\u001b[0m     \u001b[38;5;28mcls\u001b[39m \u001b[38;5;241m=\u001b[39m JSONDecoder\n",
      "File \u001b[0;32m/usr/lib/python3.11/json/decoder.py:337\u001b[0m, in \u001b[0;36mJSONDecoder.decode\u001b[0;34m(self, s, _w)\u001b[0m\n\u001b[1;32m    332\u001b[0m \u001b[38;5;28;01mdef\u001b[39;00m \u001b[38;5;21mdecode\u001b[39m(\u001b[38;5;28mself\u001b[39m, s, _w\u001b[38;5;241m=\u001b[39mWHITESPACE\u001b[38;5;241m.\u001b[39mmatch):\n\u001b[1;32m    333\u001b[0m \u001b[38;5;250m    \u001b[39m\u001b[38;5;124;03m\"\"\"Return the Python representation of ``s`` (a ``str`` instance\u001b[39;00m\n\u001b[1;32m    334\u001b[0m \u001b[38;5;124;03m    containing a JSON document).\u001b[39;00m\n\u001b[1;32m    335\u001b[0m \n\u001b[1;32m    336\u001b[0m \u001b[38;5;124;03m    \"\"\"\u001b[39;00m\n\u001b[0;32m--> 337\u001b[0m     obj, end \u001b[38;5;241m=\u001b[39m \u001b[38;5;28;43mself\u001b[39;49m\u001b[38;5;241;43m.\u001b[39;49m\u001b[43mraw_decode\u001b[49m\u001b[43m(\u001b[49m\u001b[43ms\u001b[49m\u001b[43m,\u001b[49m\u001b[43m \u001b[49m\u001b[43midx\u001b[49m\u001b[38;5;241;43m=\u001b[39;49m\u001b[43m_w\u001b[49m\u001b[43m(\u001b[49m\u001b[43ms\u001b[49m\u001b[43m,\u001b[49m\u001b[43m \u001b[49m\u001b[38;5;241;43m0\u001b[39;49m\u001b[43m)\u001b[49m\u001b[38;5;241;43m.\u001b[39;49m\u001b[43mend\u001b[49m\u001b[43m(\u001b[49m\u001b[43m)\u001b[49m\u001b[43m)\u001b[49m\n\u001b[1;32m    338\u001b[0m     end \u001b[38;5;241m=\u001b[39m _w(s, end)\u001b[38;5;241m.\u001b[39mend()\n\u001b[1;32m    339\u001b[0m     \u001b[38;5;28;01mif\u001b[39;00m end \u001b[38;5;241m!=\u001b[39m \u001b[38;5;28mlen\u001b[39m(s):\n",
      "File \u001b[0;32m/usr/lib/python3.11/json/decoder.py:355\u001b[0m, in \u001b[0;36mJSONDecoder.raw_decode\u001b[0;34m(self, s, idx)\u001b[0m\n\u001b[1;32m    353\u001b[0m     obj, end \u001b[38;5;241m=\u001b[39m \u001b[38;5;28mself\u001b[39m\u001b[38;5;241m.\u001b[39mscan_once(s, idx)\n\u001b[1;32m    354\u001b[0m \u001b[38;5;28;01mexcept\u001b[39;00m \u001b[38;5;167;01mStopIteration\u001b[39;00m \u001b[38;5;28;01mas\u001b[39;00m err:\n\u001b[0;32m--> 355\u001b[0m     \u001b[38;5;28;01mraise\u001b[39;00m JSONDecodeError(\u001b[38;5;124m\"\u001b[39m\u001b[38;5;124mExpecting value\u001b[39m\u001b[38;5;124m\"\u001b[39m, s, err\u001b[38;5;241m.\u001b[39mvalue) \u001b[38;5;28;01mfrom\u001b[39;00m \u001b[38;5;28mNone\u001b[39m\n\u001b[1;32m    356\u001b[0m \u001b[38;5;28;01mreturn\u001b[39;00m obj, end\n",
      "\u001b[0;31mJSONDecodeError\u001b[0m: Expecting value: line 28 column 50 (char 1323)"
     ]
    }
   ],
   "source": [
    "import json\n",
    "with open('/home/sunil/Downloads/annotations.json', 'r') as f:\n",
    "#     TEST_DATA = json.load(f)\n",
    "    TRAIN_DATA = json.load(f)\n",
    "     \n"
   ]
  },
  {
   "cell_type": "code",
   "execution_count": 30,
   "id": "d1ecc32c",
   "metadata": {},
   "outputs": [
    {
     "ename": "ValueError",
     "evalue": "too many values to unpack (expected 2)",
     "output_type": "error",
     "traceback": [
      "\u001b[0;31m---------------------------------------------------------------------------\u001b[0m",
      "\u001b[0;31mValueError\u001b[0m                                Traceback (most recent call last)",
      "Cell \u001b[0;32mIn[30], line 5\u001b[0m\n\u001b[1;32m      2\u001b[0m     TEST_DATA \u001b[38;5;241m=\u001b[39m json\u001b[38;5;241m.\u001b[39mload(f)\n\u001b[1;32m      4\u001b[0m examples \u001b[38;5;241m=\u001b[39m []\n\u001b[0;32m----> 5\u001b[0m \u001b[38;5;28;01mfor\u001b[39;00m text, annotations \u001b[38;5;129;01min\u001b[39;00m TEST_DATA:\n\u001b[1;32m      6\u001b[0m         examples\u001b[38;5;241m.\u001b[39mappend(Example\u001b[38;5;241m.\u001b[39mfrom_dict(nlp\u001b[38;5;241m.\u001b[39mmake_doc(text), annotations))\n",
      "\u001b[0;31mValueError\u001b[0m: too many values to unpack (expected 2)"
     ]
    }
   ],
   "source": [
    "with open('/home/sunil/Downloads/annotations.json', 'r') as f:\n",
    "    TEST_DATA = json.load(f)\n",
    "    \n",
    "examples = []\n",
    "for text, annotations in TEST_DATA:\n",
    "        examples.append(Example.from_dict(nlp.make_doc(text), annotations))"
   ]
  },
  {
   "cell_type": "code",
   "execution_count": 46,
   "id": "5a09010e",
   "metadata": {},
   "outputs": [
    {
     "ename": "SyntaxError",
     "evalue": "expected 'except' or 'finally' block (2371550334.py, line 10)",
     "output_type": "error",
     "traceback": [
      "\u001b[0;36m  Cell \u001b[0;32mIn[46], line 10\u001b[0;36m\u001b[0m\n\u001b[0;31m    print(f\"Skipping entity: {label} ({start}, {end})\")\u001b[0m\n\u001b[0m    ^\u001b[0m\n\u001b[0;31mSyntaxError\u001b[0m\u001b[0;31m:\u001b[0m expected 'except' or 'finally' block\n"
     ]
    }
   ],
   "source": [
    "for text, annot in TRAIN_DATA['annotations']:\n",
    "    try:\n",
    "        doc = nlp(text) \n",
    "        ents = []\n",
    "        for start, end, label in annot[\"entities\"]:\n",
    "            try:\n",
    "                span = doc.char_span(start, end, label=label, alignment_mode=\"expand\")\n",
    "#                 if span is None:\n",
    "                try: span\n",
    "                    print(f\"Skipping entity: {label} ({start}, {end})\")\n",
    "                else:\n",
    "                    ents.append(span)\n",
    "            except ValueError as e:\n",
    "\n",
    "                print(f\"Error: {e} ({label} ({start}, {end}))\")\n",
    "            finally:\n",
    "                print(\"Skipping entity\")\n",
    "                continue\n",
    "        doc.ents = ents \n",
    "        db.add(doc)\n",
    "    except Exception as e:\n",
    "        print(f\"Error: {e} ({text})\")\n",
    "        \n",
    "        \n",
    "        \n"
   ]
  },
  {
   "cell_type": "code",
   "execution_count": 47,
   "id": "6147c138",
   "metadata": {},
   "outputs": [
    {
     "name": "stderr",
     "output_type": "stream",
     "text": [
      "  3%|█                                        | 3/112 [00:00<00:00, 1260.56it/s]\n"
     ]
    },
    {
     "ename": "TypeError",
     "evalue": "cannot unpack non-iterable NoneType object",
     "output_type": "error",
     "traceback": [
      "\u001b[0;31m---------------------------------------------------------------------------\u001b[0m",
      "\u001b[0;31mTypeError\u001b[0m                                 Traceback (most recent call last)",
      "Cell \u001b[0;32mIn[47], line 1\u001b[0m\n\u001b[0;32m----> 1\u001b[0m \u001b[38;5;28;01mfor\u001b[39;00m text, annot \u001b[38;5;129;01min\u001b[39;00m tqdm(TRAIN_DATA[\u001b[38;5;124m'\u001b[39m\u001b[38;5;124mannotations\u001b[39m\u001b[38;5;124m'\u001b[39m]): \n\u001b[1;32m      2\u001b[0m     \u001b[38;5;28;01mtry\u001b[39;00m:\n\u001b[1;32m      3\u001b[0m         doc \u001b[38;5;241m=\u001b[39m nlp(text) \n",
      "\u001b[0;31mTypeError\u001b[0m: cannot unpack non-iterable NoneType object"
     ]
    }
   ],
   "source": [
    "for text, annot in tqdm(TRAIN_DATA['annotations']): \n",
    "    try:\n",
    "        doc = nlp(text) \n",
    "        ents = []\n",
    "        for start, end, label in annot[\"entities\"]:\n",
    "            try:\n",
    "                span = doc.char_span(start, end, label=label, alignment_mode=\"expand\")\n",
    "                if span is None:\n",
    "                    print(f\"Skipping entity: {label} ({start}, {end})\")\n",
    "                else:\n",
    "                    ents.append(span)\n",
    "            except ValueError as e:\n",
    "                print(f\"Error: {e} ({label} ({start}, {end}))\")\n",
    "                print(\"Skipping entity\")\n",
    "                continue\n",
    "        doc.ents = ents \n",
    "        db.add(doc)\n",
    "    except Exception as e:\n",
    "        print(f\"Error: {e} ({text})\")\n",
    "\n"
   ]
  },
  {
   "cell_type": "code",
   "execution_count": 48,
   "id": "e40b5d7f",
   "metadata": {},
   "outputs": [
    {
     "name": "stdout",
     "output_type": "stream",
     "text": [
      "Skipping entity\n",
      "Skipping entity\n",
      "Skipping entity\n"
     ]
    },
    {
     "ename": "TypeError",
     "evalue": "cannot unpack non-iterable NoneType object",
     "output_type": "error",
     "traceback": [
      "\u001b[0;31m---------------------------------------------------------------------------\u001b[0m",
      "\u001b[0;31mTypeError\u001b[0m                                 Traceback (most recent call last)",
      "Cell \u001b[0;32mIn[48], line 1\u001b[0m\n\u001b[0;32m----> 1\u001b[0m \u001b[38;5;28;01mfor\u001b[39;00m text, annot \u001b[38;5;129;01min\u001b[39;00m TRAIN_DATA[\u001b[38;5;124m'\u001b[39m\u001b[38;5;124mannotations\u001b[39m\u001b[38;5;124m'\u001b[39m]:\n\u001b[1;32m      2\u001b[0m     \u001b[38;5;28;01mtry\u001b[39;00m:\n\u001b[1;32m      3\u001b[0m         doc \u001b[38;5;241m=\u001b[39m nlp(text) \n",
      "\u001b[0;31mTypeError\u001b[0m: cannot unpack non-iterable NoneType object"
     ]
    }
   ],
   "source": [
    "\n",
    "for text, annot in TRAIN_DATA['annotations']:\n",
    "    try:\n",
    "        doc = nlp(text) \n",
    "        ents = []\n",
    "        for start, end, label in annot[\"entities\"]:\n",
    "            try:\n",
    "                span = doc.char_span(start, end, label=label, alignment_mode=\"expand\")\n",
    "                if span is None:\n",
    "                    print(f\"Skipping entity: {label} ({start}, {end})\")\n",
    "                else:\n",
    "                    ents.append(span)\n",
    "            except ValueError as e:\n",
    "                print(f\"Error: {e} ({label} ({start}, {end}))\")\n",
    "            finally:\n",
    "                print(\"Skipping entity\")\n",
    "                continue\n",
    "        doc.ents = ents \n",
    "        db.add(doc)\n",
    "    except Exception as e:\n",
    "        print(f\"Error: {e} ({text})\")\n",
    "\n"
   ]
  },
  {
   "cell_type": "code",
   "execution_count": 49,
   "id": "cdb8f5ce",
   "metadata": {},
   "outputs": [
    {
     "name": "stdout",
     "output_type": "stream",
     "text": [
      "<class 'dict'>\n",
      "{'classes': ['TYPE_OF_BILL', 'NAME', 'EMAIL', 'ORDER_DATE', 'MOBILE_NO.', 'TIME', 'DESCRIPTION', 'TAX_RATE', 'TOTAL_AMOUNT', 'INVOICE_NO./BILL_NO.', 'STATE', 'QUANTITY'], 'annotations': [['Restaurant Receipt', {'entities': [[0, 18, 'TYPE_OF_BILL']]}], ['', {'entities': []}], ['Name Jane Smith 002', {'entities': [[5, 15, 'NAME'], [16, 19, 'INVOICE_NO./BILL_NO.']]}], None, None, None, ['Email jasmith@noemail.com  Date 4/8/2019', {'entities': [[6, 25, 'EMAIL'], [32, 40, 'ORDER_DATE']]}], None, ['Phone Number (123) 123-4567 Time 5:00 PM', {'entities': [[13, 27, 'MOBILE_NO.'], [33, 40, 'TIME']]}], None, None, None, None, None, ['1 Food A 5 5 25', {'entities': [[2, 8, 'INVOICE_NO./BILL_NO.']]}], None, ['2 Food B 5 5 25', {'entities': [[2, 8, 'DESCRIPTION']]}], None, ['3 Food C 5 5 25', {'entities': [[2, 8, 'DESCRIPTION']]}], None, ['4 Drink D 5 2 10', {'entities': [[2, 9, 'DESCRIPTION']]}], None, ['5 Drink E 5 2 10', {'entities': [[2, 9, 'DESCRIPTION']]}], None, ['Tax % 5', {'entities': [[6, 7, 'TAX_RATE']]}], None, ['I', {'entities': []}], None, ['Total $99.75', {'entities': [[6, 12, 'TOTAL_AMOUNT']]}], None, None, None, None, ['Phone: (123) 1234567 - nfo@xyzrestaurant com - st xyzrestaurant com', {'entities': [[7, 20, 'MOBILE_NO.'], [23, 44, 'EMAIL'], [47, 67, 'EMAIL']]}], None, ['Employee ID', {'entities': [[0, 11, 'TYPE_OF_BILL']]}], ['12345', {'entities': [[0, 5, 'INVOICE_NO./BILL_NO.']]}], None, None, None, ['Angela Mills', {'entities': [[0, 12, 'NAME']]}], None, None, None, None, None, None, None, None, None, None, None, None, None, None, None, None, None, None, None, None, None, None, None, ['May 9, 2022', {'entities': [[0, 11, 'ORDER_DATE']]}], None, ['123456789', {'entities': [[0, 9, 'INVOICE_NO./BILL_NO.']]}], None, None, None, None, None, None, None, None, None, None, None, None, None, None, ['3470', {'entities': [[0, 4, 'TOTAL_AMOUNT']]}], None, None, None, None, None, ['AMBALAL ESTATE, OPP. ROYAL 27 20-Oct-2022', {'entities': [[27, 29, 'INVOICE_NO./BILL_NO.'], [30, 41, 'ORDER_DATE']]}], None, None, None, ['State Name : Gujarat, Code : 24 27', {'entities': [[13, 20, 'STATE'], [32, 34, 'INVOICE_NO./BILL_NO.']]}], None, None, None, None, None, None, None, None, ['1 |TABLE 9401 8 PCS| 6,500.00|PCS 52,000.00', {'entities': [[2, 8, 'DESCRIPTION'], [14, 15, 'QUANTITY']]}], ['2 |COMPUTER CHAIR 9401 10 PCS| 5,000.00 PCS 50,000.00', {'entities': [[2, 17, 'DESCRIPTION'], [23, 25, 'QUANTITY']]}], None, ['CGST 9% 9,180.00', {'entities': [[5, 7, 'TAX_RATE']]}], ['SGST 9% 9,180.00', {'entities': [[5, 7, 'TAX_RATE']]}], None, None, None, None, None, None, ['Total | 1,02,000.00 9,180.00 9,180.00| 18,360.00', {'entities': [[39, 48, 'TOTAL_AMOUNT']]}]]}\n"
     ]
    }
   ],
   "source": [
    "print(type(TRAIN_DATA))\n",
    "print(TRAIN_DATA)\n",
    "\n",
    "\n"
   ]
  },
  {
   "cell_type": "code",
   "execution_count": 50,
   "id": "067aff1c",
   "metadata": {},
   "outputs": [
    {
     "name": "stdout",
     "output_type": "stream",
     "text": [
      "dict_keys(['classes', 'annotations'])\n"
     ]
    }
   ],
   "source": [
    "print(TRAIN_DATA.keys())\n"
   ]
  },
  {
   "cell_type": "code",
   "execution_count": 53,
   "id": "01fe6798",
   "metadata": {},
   "outputs": [
    {
     "ename": "TypeError",
     "evalue": "list indices must be integers or slices, not str",
     "output_type": "error",
     "traceback": [
      "\u001b[0;31m---------------------------------------------------------------------------\u001b[0m",
      "\u001b[0;31mTypeError\u001b[0m                                 Traceback (most recent call last)",
      "Cell \u001b[0;32mIn[53], line 2\u001b[0m\n\u001b[1;32m      1\u001b[0m \u001b[38;5;28;01mfor\u001b[39;00m annotation \u001b[38;5;129;01min\u001b[39;00m TRAIN_DATA[\u001b[38;5;124m'\u001b[39m\u001b[38;5;124mannotations\u001b[39m\u001b[38;5;124m'\u001b[39m]:\n\u001b[0;32m----> 2\u001b[0m     text \u001b[38;5;241m=\u001b[39m \u001b[43mannotation\u001b[49m\u001b[43m[\u001b[49m\u001b[38;5;124;43m'\u001b[39;49m\u001b[38;5;124;43mtext\u001b[39;49m\u001b[38;5;124;43m'\u001b[39;49m\u001b[43m]\u001b[49m\n\u001b[1;32m      3\u001b[0m     entities \u001b[38;5;241m=\u001b[39m annotation[\u001b[38;5;124m'\u001b[39m\u001b[38;5;124mentities\u001b[39m\u001b[38;5;124m'\u001b[39m]\n\u001b[1;32m      4\u001b[0m     \u001b[38;5;66;03m# process the text and entities as needed\u001b[39;00m\n",
      "\u001b[0;31mTypeError\u001b[0m: list indices must be integers or slices, not str"
     ]
    }
   ],
   "source": [
    "for annotation in TRAIN_DATA['annotations']:\n",
    "    text = annotation['text']\n",
    "    entities = annotation['entities']\n",
    "    # process the text and entities as needed\n"
   ]
  },
  {
   "cell_type": "code",
   "execution_count": 58,
   "id": "9d984387",
   "metadata": {},
   "outputs": [
    {
     "name": "stdout",
     "output_type": "stream",
     "text": [
      "Skipping entity\n",
      "Skipping entity\n",
      "Skipping entity\n"
     ]
    },
    {
     "ename": "TypeError",
     "evalue": "cannot unpack non-iterable NoneType object",
     "output_type": "error",
     "traceback": [
      "\u001b[0;31m---------------------------------------------------------------------------\u001b[0m",
      "\u001b[0;31mTypeError\u001b[0m                                 Traceback (most recent call last)",
      "Cell \u001b[0;32mIn[58], line 1\u001b[0m\n\u001b[0;32m----> 1\u001b[0m \u001b[38;5;28;01mfor\u001b[39;00m text, annot \u001b[38;5;129;01min\u001b[39;00m TRAIN_DATA[\u001b[38;5;124m'\u001b[39m\u001b[38;5;124mannotations\u001b[39m\u001b[38;5;124m'\u001b[39m]:\n\u001b[1;32m      2\u001b[0m     \u001b[38;5;28;01mtry\u001b[39;00m:\n\u001b[1;32m      3\u001b[0m         doc \u001b[38;5;241m=\u001b[39m nlp(text) \n",
      "\u001b[0;31mTypeError\u001b[0m: cannot unpack non-iterable NoneType object"
     ]
    }
   ],
   "source": [
    "\n",
    "    \n",
    "    # process the text and annotations as needed\n",
    "\n",
    "    # process the text and entities as needed\n"
   ]
  },
  {
   "cell_type": "code",
   "execution_count": 60,
   "id": "ef9db993",
   "metadata": {},
   "outputs": [
    {
     "name": "stdout",
     "output_type": "stream",
     "text": [
      "<class 'list'>\n"
     ]
    }
   ],
   "source": [
    "print(type(TRAIN_DATA['annotations']))\n"
   ]
  },
  {
   "cell_type": "code",
   "execution_count": 61,
   "id": "befbfe64",
   "metadata": {},
   "outputs": [
    {
     "name": "stdout",
     "output_type": "stream",
     "text": [
      "Skipping entity\n",
      "Skipping entity\n",
      "Skipping entity\n"
     ]
    },
    {
     "ename": "TypeError",
     "evalue": "cannot unpack non-iterable NoneType object",
     "output_type": "error",
     "traceback": [
      "\u001b[0;31m---------------------------------------------------------------------------\u001b[0m",
      "\u001b[0;31mTypeError\u001b[0m                                 Traceback (most recent call last)",
      "Cell \u001b[0;32mIn[61], line 1\u001b[0m\n\u001b[0;32m----> 1\u001b[0m \u001b[38;5;28;01mfor\u001b[39;00m text, annot \u001b[38;5;129;01min\u001b[39;00m TRAIN_DATA[\u001b[38;5;124m'\u001b[39m\u001b[38;5;124mannotations\u001b[39m\u001b[38;5;124m'\u001b[39m]:\n\u001b[1;32m      2\u001b[0m     \u001b[38;5;28;01mtry\u001b[39;00m:\n\u001b[1;32m      3\u001b[0m         doc \u001b[38;5;241m=\u001b[39m nlp(text) \n",
      "\u001b[0;31mTypeError\u001b[0m: cannot unpack non-iterable NoneType object"
     ]
    }
   ],
   "source": [
    "for text, annot in TRAIN_DATA['annotations']:\n",
    "    try:\n",
    "        doc = nlp(text) \n",
    "        ents = []\n",
    "        for start, end, label in annot[\"entities\"]:\n",
    "            try:\n",
    "                span = doc.char_span(start, end, label=label, alignment_mode=\"expand\")\n",
    "                if span is None:\n",
    "                    print(f\"Skipping entity: {label} ({start}, {end})\")\n",
    "                else:\n",
    "                    ents.append(span)\n",
    "            except ValueError as e:\n",
    "                print(f\"Error: {e} ({label} ({start}, {end}))\")\n",
    "            finally:\n",
    "                print(\"Skipping entity\")\n",
    "                continue\n",
    "        doc.ents = ents \n",
    "        db.add(doc)\n",
    "    except Exception as e:\n",
    "        print(f\"Error: {e} ({text})\")\n"
   ]
  },
  {
   "cell_type": "code",
   "execution_count": null,
   "id": "7645dc9e",
   "metadata": {},
   "outputs": [],
   "source": []
  },
  {
   "cell_type": "code",
   "execution_count": null,
   "id": "444748b5",
   "metadata": {},
   "outputs": [],
   "source": []
  },
  {
   "cell_type": "code",
   "execution_count": null,
   "id": "d6d7a69f",
   "metadata": {},
   "outputs": [],
   "source": []
  },
  {
   "cell_type": "code",
   "execution_count": null,
   "id": "2938dbb6",
   "metadata": {},
   "outputs": [],
   "source": []
  }
 ],
 "metadata": {
  "kernelspec": {
   "display_name": "Python 3 (ipykernel)",
   "language": "python",
   "name": "python3"
  },
  "language_info": {
   "codemirror_mode": {
    "name": "ipython",
    "version": 3
   },
   "file_extension": ".py",
   "mimetype": "text/x-python",
   "name": "python",
   "nbconvert_exporter": "python",
   "pygments_lexer": "ipython3",
   "version": "3.11.2"
  }
 },
 "nbformat": 4,
 "nbformat_minor": 5
}
