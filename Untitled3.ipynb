{
 "cells": [
  {
   "cell_type": "code",
   "execution_count": 20,
   "id": "3854eed8",
   "metadata": {},
   "outputs": [],
   "source": [
    "!pip install -U spacy -q"
   ]
  },
  {
   "cell_type": "code",
   "execution_count": 36,
   "id": "a107789b",
   "metadata": {},
   "outputs": [
    {
     "name": "stdout",
     "output_type": "stream",
     "text": [
      "2023-04-04 18:48:39.390977: W tensorflow/compiler/tf2tensorrt/utils/py_utils.cc:38] TF-TRT Warning: Could not find TensorRT\n",
      "\u001b[1m\n",
      "============================== Info about spaCy ==============================\u001b[0m\n",
      "\n",
      "spaCy version    3.5.1                         \n",
      "Location         /home/sunil/.local/lib/python3.11/site-packages/spacy\n",
      "Platform         Linux-5.15.0-58-generic-x86_64-with-glibc2.35\n",
      "Python version   3.11.2                        \n",
      "Pipelines        en_core_web_sm (3.5.0), en_core_web_lg (3.5.0)\n",
      "\n"
     ]
    }
   ],
   "source": [
    "!python3 -m spacy info"
   ]
  },
  {
   "cell_type": "code",
   "execution_count": 37,
   "id": "305e2b71",
   "metadata": {},
   "outputs": [],
   "source": [
    "import spacy\n",
    "from spacy.tokens import DocBin\n",
    "from tqdm import tqdm\n",
    "\n",
    "nlp = spacy.blank(\"en\") # load a new spacy model\n",
    "db = DocBin()"
   ]
  },
  {
   "cell_type": "code",
   "execution_count": 38,
   "id": "37a567c5",
   "metadata": {},
   "outputs": [],
   "source": [
    "import json\n",
    "with open('/home/sunil/Downloads/annotations.json', 'r') as f:\n",
    "#     TEST_DATA = json.load(f)\n",
    "    TRAIN_DATA = json.load(f)\n",
    "     \n"
   ]
  },
  {
   "cell_type": "code",
   "execution_count": 39,
   "id": "d1ecc32c",
   "metadata": {},
   "outputs": [],
   "source": [
    "# with open('/home/sunil/Downloads/annotations.json', 'r') as f:\n",
    "#     TEST_DATA = json.load(f)\n",
    "    \n",
    "# examples = []\n",
    "# for text, annotations in TEST_DATA:\n",
    "#         examples.append(Example.from_dict(nlp.make_doc(text), annotations))"
   ]
  },
  {
   "cell_type": "code",
   "execution_count": 48,
   "id": "6147c138",
   "metadata": {},
   "outputs": [
    {
     "name": "stderr",
     "output_type": "stream",
     "text": [
      "100%|█████████████████████████████████████████| 27/27 [00:00<00:00, 2465.57it/s]\n"
     ]
    }
   ],
   "source": [
    "for text, annot in tqdm(TRAIN_DATA['annotations']): \n",
    "    try:\n",
    "        doc = nlp(text) \n",
    "        ents = []\n",
    "        for start, end, label in annot[\"entities\"]:\n",
    "            try:\n",
    "                span = doc.char_span(start, end, label=label, alignment_mode=\"expand\")\n",
    "                if span is None:\n",
    "                    print(f\"Skipping entity: {label} ({start}, {end})\")\n",
    "                else:\n",
    "                    ents.append(span)\n",
    "            except ValueError as e:\n",
    "                print(f\"Error: {e} ({label} ({start}, {end}))\")\n",
    "                print(\"Skipping entity\")\n",
    "                continue\n",
    "        doc.ents = ents \n",
    "        db.add(doc)\n",
    "    except Exception as e:\n",
    "        print(f\"Error: {e} ({text})\")\n",
    "        \n",
    "db.to_disk(\"./training_data.spacy\")\n",
    "\n"
   ]
  },
  {
   "cell_type": "code",
   "execution_count": 49,
   "id": "e40b5d7f",
   "metadata": {},
   "outputs": [],
   "source": [
    "\n",
    "# for text, annot in TRAIN_DATA['annotations']:\n",
    "#     try:\n",
    "#         doc = nlp(text) \n",
    "#         ents = []\n",
    "#         for start, end, label in annot[\"entities\"]:\n",
    "#             try:\n",
    "#                 span = doc.char_span(start, end, label=label, alignment_mode=\"expand\")\n",
    "#                 if span is None:\n",
    "#                     print(f\"Skipping entity: {label} ({start}, {end})\")\n",
    "#                 else:\n",
    "#                     ents.append(span)\n",
    "#             except ValueError as e:\n",
    "#                 print(f\"Error: {e} ({label} ({start}, {end}))\")\n",
    "#             finally:\n",
    "#                 print(\"Skipping entity\")\n",
    "#                 continue\n",
    "#         doc.ents = ents \n",
    "#         db.add(doc)\n",
    "#     except Exception as e:\n",
    "#         print(f\"Error: {e} ({text})\")\n",
    "\n"
   ]
  },
  {
   "cell_type": "code",
   "execution_count": 50,
   "id": "cdb8f5ce",
   "metadata": {},
   "outputs": [
    {
     "name": "stdout",
     "output_type": "stream",
     "text": [
      "<class 'dict'>\n",
      "{'classes': ['TYPE_OF_BILL', 'NAME', 'EMAIL', 'ORDER_DATE', 'MOBILE_NO.', 'TIME', 'DESCRIPTION', 'TAX_RATE', 'TOTAL_AMOUNT', 'INVOICE_NO./BILL_NO.', 'STATE', 'QUANTITY'], 'annotations': [['Restaurant Receipt', {'entities': [[0, 18, 'TYPE_OF_BILL']]}], ['', {'entities': []}], ['Name Jane Smith 002', {'entities': [[5, 15, 'NAME'], [16, 19, 'INVOICE_NO./BILL_NO.']]}], ['Email jasmith@noemail.com  Date 4/8/2019', {'entities': [[6, 25, 'EMAIL'], [32, 40, 'ORDER_DATE']]}], ['Phone Number (123) 123-4567 Time 5:00 PM', {'entities': [[13, 27, 'MOBILE_NO.'], [33, 40, 'TIME']]}], ['1 Food A 5 5 25', {'entities': [[2, 8, 'INVOICE_NO./BILL_NO.']]}], ['2 Food B 5 5 25', {'entities': [[2, 8, 'DESCRIPTION']]}], ['3 Food C 5 5 25', {'entities': [[2, 8, 'DESCRIPTION']]}], ['4 Drink D 5 2 10', {'entities': [[2, 9, 'DESCRIPTION']]}], ['5 Drink E 5 2 10', {'entities': [[2, 9, 'DESCRIPTION']]}], ['Tax % 5', {'entities': [[6, 7, 'TAX_RATE']]}], ['I', {'entities': []}], ['Total $99.75', {'entities': [[6, 12, 'TOTAL_AMOUNT']]}], ['Phone: (123) 1234567 - nfo@xyzrestaurant com - st xyzrestaurant com', {'entities': [[7, 20, 'MOBILE_NO.'], [23, 44, 'EMAIL'], [47, 67, 'EMAIL']]}], ['Employee ID', {'entities': [[0, 11, 'TYPE_OF_BILL']]}], ['12345', {'entities': [[0, 5, 'INVOICE_NO./BILL_NO.']]}], ['Angela Mills', {'entities': [[0, 12, 'NAME']]}], ['May 9, 2022', {'entities': [[0, 11, 'ORDER_DATE']]}], ['123456789', {'entities': [[0, 9, 'INVOICE_NO./BILL_NO.']]}], ['3470', {'entities': [[0, 4, 'TOTAL_AMOUNT']]}], ['AMBALAL ESTATE, OPP. ROYAL 27 20-Oct-2022', {'entities': [[27, 29, 'INVOICE_NO./BILL_NO.'], [30, 41, 'ORDER_DATE']]}], ['State Name : Gujarat, Code : 24 27', {'entities': [[13, 20, 'STATE'], [32, 34, 'INVOICE_NO./BILL_NO.']]}], ['1 |TABLE 9401 8 PCS| 6,500.00|PCS 52,000.00', {'entities': [[2, 8, 'DESCRIPTION'], [14, 15, 'QUANTITY']]}], ['2 |COMPUTER CHAIR 9401 10 PCS| 5,000.00 PCS 50,000.00', {'entities': [[2, 17, 'DESCRIPTION'], [23, 25, 'QUANTITY']]}], ['CGST 9% 9,180.00', {'entities': [[5, 7, 'TAX_RATE']]}], ['SGST 9% 9,180.00', {'entities': [[5, 7, 'TAX_RATE']]}], ['Total | 1,02,000.00 9,180.00 9,180.00| 18,360.00', {'entities': [[39, 48, 'TOTAL_AMOUNT']]}]]}\n"
     ]
    }
   ],
   "source": [
    "print(type(TRAIN_DATA))\n",
    "print(TRAIN_DATA)\n",
    "\n",
    "\n"
   ]
  },
  {
   "cell_type": "code",
   "execution_count": 51,
   "id": "067aff1c",
   "metadata": {},
   "outputs": [
    {
     "name": "stdout",
     "output_type": "stream",
     "text": [
      "dict_keys(['classes', 'annotations'])\n"
     ]
    }
   ],
   "source": [
    "print(TRAIN_DATA.keys())\n"
   ]
  },
  {
   "cell_type": "code",
   "execution_count": 52,
   "id": "9d984387",
   "metadata": {},
   "outputs": [],
   "source": [
    "\n",
    "    \n",
    "    # process the text and annotations as needed\n",
    "\n",
    "    # process the text and entities as needed\n"
   ]
  },
  {
   "cell_type": "code",
   "execution_count": 53,
   "id": "ef9db993",
   "metadata": {},
   "outputs": [
    {
     "name": "stdout",
     "output_type": "stream",
     "text": [
      "<class 'list'>\n"
     ]
    }
   ],
   "source": [
    "print(type(TRAIN_DATA['annotations']))\n"
   ]
  },
  {
   "cell_type": "code",
   "execution_count": 54,
   "id": "befbfe64",
   "metadata": {},
   "outputs": [],
   "source": [
    "# for text, annot in TRAIN_DATA['annotations']:\n",
    "#     try:\n",
    "#         doc = nlp(text) \n",
    "#         ents = []\n",
    "#         for start, end, label in annot[\"entities\"]:\n",
    "#             try:\n",
    "#                 span = doc.char_span(start, end, label=label, alignment_mode=\"expand\")\n",
    "#                 if span is None:\n",
    "#                     print(f\"Skipping entity: {label} ({start}, {end})\")\n",
    "#                 else:\n",
    "#                     ents.append(span)\n",
    "#             except ValueError as e:\n",
    "#                 print(f\"Error: {e} ({label} ({start}, {end}))\")\n",
    "#             finally:\n",
    "#                 print(\"Skipping entity\")\n",
    "#                 continue\n",
    "#         doc.ents = ents \n",
    "#         db.add(doc)\n",
    "#     except Exception as e:\n",
    "#         print(f\"Error: {e} ({text})\")\n"
   ]
  },
  {
   "cell_type": "code",
   "execution_count": 55,
   "id": "7645dc9e",
   "metadata": {},
   "outputs": [],
   "source": [
    "# ! python -m spacy init config config.cfg --lang en --pipeline ner --optimize efficiency"
   ]
  },
  {
   "cell_type": "code",
   "execution_count": 56,
   "id": "444748b5",
   "metadata": {},
   "outputs": [
    {
     "name": "stdout",
     "output_type": "stream",
     "text": [
      "2023-04-04 19:10:06.730936: W tensorflow/compiler/tf2tensorrt/utils/py_utils.cc:38] TF-TRT Warning: Could not find TensorRT\n",
      "\u001b[38;5;4mℹ Saving to output directory: .\u001b[0m\n",
      "\u001b[38;5;4mℹ Using CPU\u001b[0m\n",
      "\u001b[1m\n",
      "=========================== Initializing pipeline ===========================\u001b[0m\n",
      "[2023-04-04 19:10:08,330] [INFO] Set up nlp object from config\n",
      "[2023-04-04 19:10:08,345] [INFO] Pipeline: ['tok2vec', 'ner']\n",
      "[2023-04-04 19:10:08,348] [INFO] Created vocabulary\n",
      "[2023-04-04 19:10:08,349] [INFO] Finished initializing nlp object\n",
      "[2023-04-04 19:10:08,480] [INFO] Initialized pipeline components: ['tok2vec', 'ner']\n",
      "\u001b[38;5;2m✔ Initialized pipeline\u001b[0m\n",
      "\u001b[1m\n",
      "============================= Training pipeline =============================\u001b[0m\n",
      "\u001b[38;5;4mℹ Pipeline: ['tok2vec', 'ner']\u001b[0m\n",
      "\u001b[38;5;4mℹ Initial learn rate: 0.001\u001b[0m\n",
      "E    #       LOSS TOK2VEC  LOSS NER  ENTS_F  ENTS_P  ENTS_R  SCORE \n",
      "---  ------  ------------  --------  ------  ------  ------  ------\n",
      "  0       0          0.00     72.08   14.63   42.86    8.82    0.15\n",
      " 50     200         59.65   2338.80  100.00  100.00  100.00    1.00\n",
      "113     400          0.00      0.00  100.00  100.00  100.00    1.00\n",
      "180     600          0.00      0.00  100.00  100.00  100.00    1.00\n",
      "280     800          0.00      0.00  100.00  100.00  100.00    1.00\n",
      "380    1000          0.00      0.00  100.00  100.00  100.00    1.00\n",
      "482    1200          0.00      0.00  100.00  100.00  100.00    1.00\n",
      "682    1400          0.00      0.00  100.00  100.00  100.00    1.00\n",
      "882    1600          0.00      0.00  100.00  100.00  100.00    1.00\n",
      "1082    1800          0.00      0.00  100.00  100.00  100.00    1.00\n",
      "\u001b[38;5;2m✔ Saved pipeline to output directory\u001b[0m\n",
      "model-last\n"
     ]
    }
   ],
   "source": [
    "\n",
    "! python3 -m spacy train config.cfg --output ./ --paths.train ./training_data.spacy --paths.dev ./training_data.spacy"
   ]
  },
  {
   "cell_type": "code",
   "execution_count": 58,
   "id": "d6d7a69f",
   "metadata": {
    "scrolled": true
   },
   "outputs": [],
   "source": [
    "nlp_ner = spacy.load(\"/home/sunil/Desktop/np/model-best\") "
   ]
  },
  {
   "cell_type": "raw",
   "id": "54ec3ccd",
   "metadata": {},
   "source": [
    "\n",
    "! python -m spacy train config.cfg --output ./ --paths.train ./training_data.spacy --paths.dev ./training_data.spacy\n",
    "-- to train the data and to give the output path\n",
    "nlp_ner = spacy.load(\"/content/model-best\") \n",
    "-- to load the model\n",
    "doc = nlp_ner('asdfghjklwsedrfghjk') -- to test the data\n",
    "spacy.displacy.render(doc, style=\"ent\", jupyter=True)"
   ]
  },
  {
   "cell_type": "code",
   "execution_count": 61,
   "id": "5ed64a60",
   "metadata": {},
   "outputs": [],
   "source": [
    "doc = nlp_ner('''\n",
    "''')"
   ]
  },
  {
   "cell_type": "code",
   "execution_count": 62,
   "id": "3921eb55",
   "metadata": {},
   "outputs": [
    {
     "data": {
      "text/html": [
       "<span class=\"tex2jax_ignore\"><div class=\"entities\" style=\"line-height: 2.5; direction: ltr\"></br>\n",
       "<mark class=\"entity\" style=\"background: #ddd; padding: 0.45em 0.6em; margin: 0 0.25em; line-height: 1; border-radius: 0.35em;\">\n",
       "    Employee ID\n",
       "    <span style=\"font-size: 0.8em; font-weight: bold; line-height: 1; border-radius: 0.35em; vertical-align: middle; margin-left: 0.5rem\">TYPE_OF_BILL</span>\n",
       "</mark>\n",
       "</br>\n",
       "<mark class=\"entity\" style=\"background: #ddd; padding: 0.45em 0.6em; margin: 0 0.25em; line-height: 1; border-radius: 0.35em;\">\n",
       "    12345\n",
       "    <span style=\"font-size: 0.8em; font-weight: bold; line-height: 1; border-radius: 0.35em; vertical-align: middle; margin-left: 0.5rem\">INVOICE_NO./BILL_NO.</span>\n",
       "</mark>\n",
       "</br></br>\n",
       "<mark class=\"entity\" style=\"background: #ddd; padding: 0.45em 0.6em; margin: 0 0.25em; line-height: 1; border-radius: 0.35em;\">\n",
       "    Employee Name\n",
       "    <span style=\"font-size: 0.8em; font-weight: bold; line-height: 1; border-radius: 0.35em; vertical-align: middle; margin-left: 0.5rem\">TYPE_OF_BILL</span>\n",
       "</mark>\n",
       "</br></br>\n",
       "<mark class=\"entity\" style=\"background: #ddd; padding: 0.45em 0.6em; margin: 0 0.25em; line-height: 1; border-radius: 0.35em;\">\n",
       "    Angela Mills\n",
       "    <span style=\"font-size: 0.8em; font-weight: bold; line-height: 1; border-radius: 0.35em; vertical-align: middle; margin-left: 0.5rem\">NAME</span>\n",
       "</mark>\n",
       "</br>\n",
       "<mark class=\"entity\" style=\"background: #ddd; padding: 0.45em 0.6em; margin: 0 0.25em; line-height: 1; border-radius: 0.35em;\">\n",
       "    Gain\n",
       "\n",
       "    <span style=\"font-size: 0.8em; font-weight: bold; line-height: 1; border-radius: 0.35em; vertical-align: middle; margin-left: 0.5rem\">TAX_RATE</span>\n",
       "</mark>\n",
       "Details</br>Basic Salary</br>Bonus</br>Commission</br>Deductions</br>Details</br>Tax Deductions</br>Health Insurance</br>Loan</br>Payment Method</br></br>Wire Transfer</br></br>Note</br>N/A</br></br>Payroll Receipt</br></br>276 Eagle \n",
       "<mark class=\"entity\" style=\"background: #ddd; padding: 0.45em 0.6em; margin: 0 0.25em; line-height: 1; border-radius: 0.35em;\">\n",
       "    Lane\n",
       "    <span style=\"font-size: 0.8em; font-weight: bold; line-height: 1; border-radius: 0.35em; vertical-align: middle; margin-left: 0.5rem\">STATE</span>\n",
       "</mark>\n",
       ", Wadena, MN, 56482</br>\n",
       "<mark class=\"entity\" style=\"background: #ddd; padding: 0.45em 0.6em; margin: 0 0.25em; line-height: 1; border-radius: 0.35em;\">\n",
       "    (123) 123-4567\n",
       "    <span style=\"font-size: 0.8em; font-weight: bold; line-height: 1; border-radius: 0.35em; vertical-align: middle; margin-left: 0.5rem\">MOBILE_NO.</span>\n",
       "</mark>\n",
       " - \n",
       "<mark class=\"entity\" style=\"background: #ddd; padding: 0.45em 0.6em; margin: 0 0.25em; line-height: 1; border-radius: 0.35em;\">\n",
       "    info@email.com\n",
       "    <span style=\"font-size: 0.8em; font-weight: bold; line-height: 1; border-radius: 0.35em; vertical-align: middle; margin-left: 0.5rem\">STATE</span>\n",
       "</mark>\n",
       " - \n",
       "<mark class=\"entity\" style=\"background: #ddd; padding: 0.45em 0.6em; margin: 0 0.25em; line-height: 1; border-radius: 0.35em;\">\n",
       "    www.abccompany.com\n",
       "\n",
       "\n",
       "    <span style=\"font-size: 0.8em; font-weight: bold; line-height: 1; border-radius: 0.35em; vertical-align: middle; margin-left: 0.5rem\">EMAIL</span>\n",
       "</mark>\n",
       "Receipt Date</br>\n",
       "<mark class=\"entity\" style=\"background: #ddd; padding: 0.45em 0.6em; margin: 0 0.25em; line-height: 1; border-radius: 0.35em;\">\n",
       "    May 9, 2022\n",
       "    <span style=\"font-size: 0.8em; font-weight: bold; line-height: 1; border-radius: 0.35em; vertical-align: middle; margin-left: 0.5rem\">ORDER_DATE</span>\n",
       "</mark>\n",
       "</br>Receipt Number</br>\n",
       "<mark class=\"entity\" style=\"background: #ddd; padding: 0.45em 0.6em; margin: 0 0.25em; line-height: 1; border-radius: 0.35em;\">\n",
       "    123456789\n",
       "    <span style=\"font-size: 0.8em; font-weight: bold; line-height: 1; border-radius: 0.35em; vertical-align: middle; margin-left: 0.5rem\">INVOICE_NO./BILL_NO.</span>\n",
       "</mark>\n",
       "</br>Amount \n",
       "<mark class=\"entity\" style=\"background: #ddd; padding: 0.45em 0.6em; margin: 0 0.25em; line-height: 1; border-radius: 0.35em;\">\n",
       "    ($)\n",
       "3000\n",
       "    <span style=\"font-size: 0.8em; font-weight: bold; line-height: 1; border-radius: 0.35em; vertical-align: middle; margin-left: 0.5rem\">MOBILE_NO.</span>\n",
       "</mark>\n",
       "</br>300</br>500</br>Amount \n",
       "<mark class=\"entity\" style=\"background: #ddd; padding: 0.45em 0.6em; margin: 0 0.25em; line-height: 1; border-radius: 0.35em;\">\n",
       "    ($)\n",
       "30\n",
       "100\n",
       "200\n",
       "Total Gross Salary (\n",
       "    <span style=\"font-size: 0.8em; font-weight: bold; line-height: 1; border-radius: 0.35em; vertical-align: middle; margin-left: 0.5rem\">MOBILE_NO.</span>\n",
       "</mark>\n",
       "\n",
       "<mark class=\"entity\" style=\"background: #ddd; padding: 0.45em 0.6em; margin: 0 0.25em; line-height: 1; border-radius: 0.35em;\">\n",
       "    $)\n",
       "    <span style=\"font-size: 0.8em; font-weight: bold; line-height: 1; border-radius: 0.35em; vertical-align: middle; margin-left: 0.5rem\">TOTAL_AMOUNT</span>\n",
       "</mark>\n",
       "</br>\n",
       "<mark class=\"entity\" style=\"background: #ddd; padding: 0.45em 0.6em; margin: 0 0.25em; line-height: 1; border-radius: 0.35em;\">\n",
       "    $3800\n",
       "    <span style=\"font-size: 0.8em; font-weight: bold; line-height: 1; border-radius: 0.35em; vertical-align: middle; margin-left: 0.5rem\">TOTAL_AMOUNT</span>\n",
       "</mark>\n",
       "</br>Total Deductions \n",
       "<mark class=\"entity\" style=\"background: #ddd; padding: 0.45em 0.6em; margin: 0 0.25em; line-height: 1; border-radius: 0.35em;\">\n",
       "    ($)\n",
       "\n",
       "    <span style=\"font-size: 0.8em; font-weight: bold; line-height: 1; border-radius: 0.35em; vertical-align: middle; margin-left: 0.5rem\">MOBILE_NO.</span>\n",
       "</mark>\n",
       "\n",
       "<mark class=\"entity\" style=\"background: #ddd; padding: 0.45em 0.6em; margin: 0 0.25em; line-height: 1; border-radius: 0.35em;\">\n",
       "    $330\n",
       "    <span style=\"font-size: 0.8em; font-weight: bold; line-height: 1; border-radius: 0.35em; vertical-align: middle; margin-left: 0.5rem\">TOTAL_AMOUNT</span>\n",
       "</mark>\n",
       "</br>Total Net Pay \n",
       "<mark class=\"entity\" style=\"background: #ddd; padding: 0.45em 0.6em; margin: 0 0.25em; line-height: 1; border-radius: 0.35em;\">\n",
       "    ($)\n",
       "\n",
       "\n",
       "    <span style=\"font-size: 0.8em; font-weight: bold; line-height: 1; border-radius: 0.35em; vertical-align: middle; margin-left: 0.5rem\">MOBILE_NO.</span>\n",
       "</mark>\n",
       "\n",
       "<mark class=\"entity\" style=\"background: #ddd; padding: 0.45em 0.6em; margin: 0 0.25em; line-height: 1; border-radius: 0.35em;\">\n",
       "    3470\n",
       "    <span style=\"font-size: 0.8em; font-weight: bold; line-height: 1; border-radius: 0.35em; vertical-align: middle; margin-left: 0.5rem\">TOTAL_AMOUNT</span>\n",
       "</mark>\n",
       "</div></span>"
      ],
      "text/plain": [
       "<IPython.core.display.HTML object>"
      ]
     },
     "metadata": {},
     "output_type": "display_data"
    }
   ],
   "source": [
    "spacy.displacy.render(doc, style=\"ent\", jupyter=True)"
   ]
  },
  {
   "cell_type": "code",
   "execution_count": null,
   "id": "51b2958d",
   "metadata": {},
   "outputs": [],
   "source": []
  }
 ],
 "metadata": {
  "kernelspec": {
   "display_name": "Python 3 (ipykernel)",
   "language": "python",
   "name": "python3"
  },
  "language_info": {
   "codemirror_mode": {
    "name": "ipython",
    "version": 3
   },
   "file_extension": ".py",
   "mimetype": "text/x-python",
   "name": "python",
   "nbconvert_exporter": "python",
   "pygments_lexer": "ipython3",
   "version": "3.11.2"
  }
 },
 "nbformat": 4,
 "nbformat_minor": 5
}
